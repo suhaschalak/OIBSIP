{
 "cells": [
  {
   "cell_type": "markdown",
   "metadata": {},
   "source": [
    "### 1. Importing Dependecies"
   ]
  },
  {
   "cell_type": "code",
   "execution_count": 41,
   "metadata": {},
   "outputs": [
    {
     "name": "stdout",
     "output_type": "stream",
     "text": [
      "Collecting gradio\n",
      "  Downloading gradio-4.44.0-py3-none-any.whl.metadata (15 kB)\n",
      "Collecting aiofiles<24.0,>=22.0 (from gradio)\n",
      "  Downloading aiofiles-23.2.1-py3-none-any.whl.metadata (9.7 kB)\n",
      "Requirement already satisfied: anyio<5.0,>=3.0 in c:\\users\\chala\\appdata\\local\\anaconda3\\lib\\site-packages (from gradio) (4.2.0)\n",
      "Collecting fastapi<1.0 (from gradio)\n",
      "  Downloading fastapi-0.115.0-py3-none-any.whl.metadata (27 kB)\n",
      "Collecting ffmpy (from gradio)\n",
      "  Downloading ffmpy-0.4.0-py3-none-any.whl.metadata (2.9 kB)\n",
      "Collecting gradio-client==1.3.0 (from gradio)\n",
      "  Downloading gradio_client-1.3.0-py3-none-any.whl.metadata (7.1 kB)\n",
      "Requirement already satisfied: httpx>=0.24.1 in c:\\users\\chala\\appdata\\local\\anaconda3\\lib\\site-packages (from gradio) (0.27.0)\n",
      "Collecting huggingface-hub>=0.19.3 (from gradio)\n",
      "  Downloading huggingface_hub-0.25.1-py3-none-any.whl.metadata (13 kB)\n",
      "Collecting importlib-resources<7.0,>=1.3 (from gradio)\n",
      "  Downloading importlib_resources-6.4.5-py3-none-any.whl.metadata (4.0 kB)\n",
      "Requirement already satisfied: jinja2<4.0 in c:\\users\\chala\\appdata\\local\\anaconda3\\lib\\site-packages (from gradio) (3.1.4)\n",
      "Requirement already satisfied: markupsafe~=2.0 in c:\\users\\chala\\appdata\\local\\anaconda3\\lib\\site-packages (from gradio) (2.1.3)\n",
      "Requirement already satisfied: matplotlib~=3.0 in c:\\users\\chala\\appdata\\local\\anaconda3\\lib\\site-packages (from gradio) (3.8.4)\n",
      "Requirement already satisfied: numpy<3.0,>=1.0 in c:\\users\\chala\\appdata\\local\\anaconda3\\lib\\site-packages (from gradio) (1.26.4)\n",
      "Collecting orjson~=3.0 (from gradio)\n",
      "  Downloading orjson-3.10.7-cp312-none-win_amd64.whl.metadata (51 kB)\n",
      "     ---------------------------------------- 0.0/51.7 kB ? eta -:--:--\n",
      "     ----------------------- ---------------- 30.7/51.7 kB ? eta -:--:--\n",
      "     ----------------------- ---------------- 30.7/51.7 kB ? eta -:--:--\n",
      "     ----------------------- ---------------- 30.7/51.7 kB ? eta -:--:--\n",
      "     ----------------------- ---------------- 30.7/51.7 kB ? eta -:--:--\n",
      "     ----------------------- ---------------- 30.7/51.7 kB ? eta -:--:--\n",
      "     ----------------------- ---------------- 30.7/51.7 kB ? eta -:--:--\n",
      "     ----------------------- ---------------- 30.7/51.7 kB ? eta -:--:--\n",
      "     ----------------------- ---------------- 30.7/51.7 kB ? eta -:--:--\n",
      "     ----------------------- ---------------- 30.7/51.7 kB ? eta -:--:--\n",
      "     ----------------------- ---------------- 30.7/51.7 kB ? eta -:--:--\n",
      "     ----------------------- ---------------- 30.7/51.7 kB ? eta -:--:--\n",
      "     --------------------------------------- 51.7/51.7 kB 45.0 kB/s eta 0:00:00\n",
      "Requirement already satisfied: packaging in c:\\users\\chala\\appdata\\local\\anaconda3\\lib\\site-packages (from gradio) (23.2)\n",
      "Requirement already satisfied: pandas<3.0,>=1.0 in c:\\users\\chala\\appdata\\local\\anaconda3\\lib\\site-packages (from gradio) (2.2.2)\n",
      "Requirement already satisfied: pillow<11.0,>=8.0 in c:\\users\\chala\\appdata\\local\\anaconda3\\lib\\site-packages (from gradio) (10.3.0)\n",
      "Requirement already satisfied: pydantic>=2.0 in c:\\users\\chala\\appdata\\local\\anaconda3\\lib\\site-packages (from gradio) (2.5.3)\n",
      "Collecting pydub (from gradio)\n",
      "  Downloading pydub-0.25.1-py2.py3-none-any.whl.metadata (1.4 kB)\n",
      "Collecting python-multipart>=0.0.9 (from gradio)\n",
      "  Downloading python_multipart-0.0.10-py3-none-any.whl.metadata (1.9 kB)\n",
      "Requirement already satisfied: pyyaml<7.0,>=5.0 in c:\\users\\chala\\appdata\\local\\anaconda3\\lib\\site-packages (from gradio) (6.0.1)\n",
      "Collecting ruff>=0.2.2 (from gradio)\n",
      "  Downloading ruff-0.6.7-py3-none-win_amd64.whl.metadata (25 kB)\n",
      "Collecting semantic-version~=2.0 (from gradio)\n",
      "  Downloading semantic_version-2.10.0-py2.py3-none-any.whl.metadata (9.7 kB)\n",
      "Collecting tomlkit==0.12.0 (from gradio)\n",
      "  Downloading tomlkit-0.12.0-py3-none-any.whl.metadata (2.7 kB)\n",
      "Collecting typer<1.0,>=0.12 (from gradio)\n",
      "  Downloading typer-0.12.5-py3-none-any.whl.metadata (15 kB)\n",
      "Requirement already satisfied: typing-extensions~=4.0 in c:\\users\\chala\\appdata\\local\\anaconda3\\lib\\site-packages (from gradio) (4.11.0)\n",
      "Requirement already satisfied: urllib3~=2.0 in c:\\users\\chala\\appdata\\local\\anaconda3\\lib\\site-packages (from gradio) (2.2.2)\n",
      "Collecting uvicorn>=0.14.0 (from gradio)\n",
      "  Downloading uvicorn-0.30.6-py3-none-any.whl.metadata (6.6 kB)\n",
      "Requirement already satisfied: fsspec in c:\\users\\chala\\appdata\\local\\anaconda3\\lib\\site-packages (from gradio-client==1.3.0->gradio) (2024.3.1)\n",
      "Collecting websockets<13.0,>=10.0 (from gradio-client==1.3.0->gradio)\n",
      "  Downloading websockets-12.0-cp312-cp312-win_amd64.whl.metadata (6.8 kB)\n",
      "Requirement already satisfied: idna>=2.8 in c:\\users\\chala\\appdata\\local\\anaconda3\\lib\\site-packages (from anyio<5.0,>=3.0->gradio) (3.7)\n",
      "Requirement already satisfied: sniffio>=1.1 in c:\\users\\chala\\appdata\\local\\anaconda3\\lib\\site-packages (from anyio<5.0,>=3.0->gradio) (1.3.0)\n",
      "Collecting starlette<0.39.0,>=0.37.2 (from fastapi<1.0->gradio)\n",
      "  Downloading starlette-0.38.6-py3-none-any.whl.metadata (6.0 kB)\n",
      "Requirement already satisfied: certifi in c:\\users\\chala\\appdata\\local\\anaconda3\\lib\\site-packages (from httpx>=0.24.1->gradio) (2024.8.30)\n",
      "Requirement already satisfied: httpcore==1.* in c:\\users\\chala\\appdata\\local\\anaconda3\\lib\\site-packages (from httpx>=0.24.1->gradio) (1.0.2)\n",
      "Requirement already satisfied: h11<0.15,>=0.13 in c:\\users\\chala\\appdata\\local\\anaconda3\\lib\\site-packages (from httpcore==1.*->httpx>=0.24.1->gradio) (0.14.0)\n",
      "Requirement already satisfied: filelock in c:\\users\\chala\\appdata\\local\\anaconda3\\lib\\site-packages (from huggingface-hub>=0.19.3->gradio) (3.13.1)\n",
      "Requirement already satisfied: requests in c:\\users\\chala\\appdata\\local\\anaconda3\\lib\\site-packages (from huggingface-hub>=0.19.3->gradio) (2.32.2)\n",
      "Requirement already satisfied: tqdm>=4.42.1 in c:\\users\\chala\\appdata\\local\\anaconda3\\lib\\site-packages (from huggingface-hub>=0.19.3->gradio) (4.66.4)\n",
      "Requirement already satisfied: contourpy>=1.0.1 in c:\\users\\chala\\appdata\\local\\anaconda3\\lib\\site-packages (from matplotlib~=3.0->gradio) (1.2.0)\n",
      "Requirement already satisfied: cycler>=0.10 in c:\\users\\chala\\appdata\\local\\anaconda3\\lib\\site-packages (from matplotlib~=3.0->gradio) (0.11.0)\n",
      "Requirement already satisfied: fonttools>=4.22.0 in c:\\users\\chala\\appdata\\local\\anaconda3\\lib\\site-packages (from matplotlib~=3.0->gradio) (4.51.0)\n",
      "Requirement already satisfied: kiwisolver>=1.3.1 in c:\\users\\chala\\appdata\\local\\anaconda3\\lib\\site-packages (from matplotlib~=3.0->gradio) (1.4.4)\n",
      "Requirement already satisfied: pyparsing>=2.3.1 in c:\\users\\chala\\appdata\\local\\anaconda3\\lib\\site-packages (from matplotlib~=3.0->gradio) (3.0.9)\n",
      "Requirement already satisfied: python-dateutil>=2.7 in c:\\users\\chala\\appdata\\local\\anaconda3\\lib\\site-packages (from matplotlib~=3.0->gradio) (2.9.0.post0)\n",
      "Requirement already satisfied: pytz>=2020.1 in c:\\users\\chala\\appdata\\local\\anaconda3\\lib\\site-packages (from pandas<3.0,>=1.0->gradio) (2024.1)\n",
      "Requirement already satisfied: tzdata>=2022.7 in c:\\users\\chala\\appdata\\local\\anaconda3\\lib\\site-packages (from pandas<3.0,>=1.0->gradio) (2023.3)\n",
      "Requirement already satisfied: annotated-types>=0.4.0 in c:\\users\\chala\\appdata\\local\\anaconda3\\lib\\site-packages (from pydantic>=2.0->gradio) (0.6.0)\n",
      "Requirement already satisfied: pydantic-core==2.14.6 in c:\\users\\chala\\appdata\\local\\anaconda3\\lib\\site-packages (from pydantic>=2.0->gradio) (2.14.6)\n",
      "Requirement already satisfied: click>=8.0.0 in c:\\users\\chala\\appdata\\local\\anaconda3\\lib\\site-packages (from typer<1.0,>=0.12->gradio) (8.1.7)\n",
      "Collecting shellingham>=1.3.0 (from typer<1.0,>=0.12->gradio)\n",
      "  Downloading shellingham-1.5.4-py2.py3-none-any.whl.metadata (3.5 kB)\n",
      "Requirement already satisfied: rich>=10.11.0 in c:\\users\\chala\\appdata\\local\\anaconda3\\lib\\site-packages (from typer<1.0,>=0.12->gradio) (13.3.5)\n",
      "Requirement already satisfied: colorama in c:\\users\\chala\\appdata\\local\\anaconda3\\lib\\site-packages (from click>=8.0.0->typer<1.0,>=0.12->gradio) (0.4.6)\n",
      "Requirement already satisfied: six>=1.5 in c:\\users\\chala\\appdata\\local\\anaconda3\\lib\\site-packages (from python-dateutil>=2.7->matplotlib~=3.0->gradio) (1.16.0)\n",
      "Requirement already satisfied: markdown-it-py<3.0.0,>=2.2.0 in c:\\users\\chala\\appdata\\local\\anaconda3\\lib\\site-packages (from rich>=10.11.0->typer<1.0,>=0.12->gradio) (2.2.0)\n",
      "Requirement already satisfied: pygments<3.0.0,>=2.13.0 in c:\\users\\chala\\appdata\\local\\anaconda3\\lib\\site-packages (from rich>=10.11.0->typer<1.0,>=0.12->gradio) (2.15.1)\n",
      "Requirement already satisfied: charset-normalizer<4,>=2 in c:\\users\\chala\\appdata\\local\\anaconda3\\lib\\site-packages (from requests->huggingface-hub>=0.19.3->gradio) (2.0.4)\n",
      "Requirement already satisfied: mdurl~=0.1 in c:\\users\\chala\\appdata\\local\\anaconda3\\lib\\site-packages (from markdown-it-py<3.0.0,>=2.2.0->rich>=10.11.0->typer<1.0,>=0.12->gradio) (0.1.0)\n",
      "Downloading gradio-4.44.0-py3-none-any.whl (18.1 MB)\n",
      "   ---------------------------------------- 0.0/18.1 MB ? eta -:--:--\n",
      "   ---------------------------------------- 0.1/18.1 MB 2.4 MB/s eta 0:00:08\n",
      "   ---------------------------------------- 0.1/18.1 MB 1.7 MB/s eta 0:00:11\n",
      "   ---------------------------------------- 0.2/18.1 MB 1.4 MB/s eta 0:00:13\n",
      "    --------------------------------------- 0.3/18.1 MB 1.3 MB/s eta 0:00:15\n",
      "    --------------------------------------- 0.3/18.1 MB 1.2 MB/s eta 0:00:15\n",
      "    --------------------------------------- 0.3/18.1 MB 1.2 MB/s eta 0:00:15\n",
      "    --------------------------------------- 0.4/18.1 MB 1.1 MB/s eta 0:00:16\n",
      "   - -------------------------------------- 0.5/18.1 MB 930.9 kB/s eta 0:00:19\n",
      "   - -------------------------------------- 0.6/18.1 MB 974.4 kB/s eta 0:00:18\n",
      "   - -------------------------------------- 0.6/18.1 MB 905.4 kB/s eta 0:00:20\n",
      "   - -------------------------------------- 0.6/18.1 MB 888.5 kB/s eta 0:00:20\n",
      "   - -------------------------------------- 0.8/18.1 MB 996.5 kB/s eta 0:00:18\n",
      "   -- ------------------------------------- 1.0/18.1 MB 1.0 MB/s eta 0:00:17\n",
      "   -- ------------------------------------- 1.1/18.1 MB 1.1 MB/s eta 0:00:16\n",
      "   -- ------------------------------------- 1.2/18.1 MB 1.1 MB/s eta 0:00:16\n",
      "   -- ------------------------------------- 1.3/18.1 MB 1.1 MB/s eta 0:00:16\n",
      "   --- ------------------------------------ 1.5/18.1 MB 1.1 MB/s eta 0:00:15\n",
      "   --- ------------------------------------ 1.6/18.1 MB 1.1 MB/s eta 0:00:15\n",
      "   --- ------------------------------------ 1.7/18.1 MB 1.2 MB/s eta 0:00:15\n",
      "   --- ------------------------------------ 1.8/18.1 MB 1.1 MB/s eta 0:00:15\n",
      "   ---- ----------------------------------- 1.9/18.1 MB 1.2 MB/s eta 0:00:14\n",
      "   ---- ----------------------------------- 2.0/18.1 MB 1.2 MB/s eta 0:00:14\n",
      "   ---- ----------------------------------- 2.0/18.1 MB 1.1 MB/s eta 0:00:15\n",
      "   ---- ----------------------------------- 2.2/18.1 MB 1.2 MB/s eta 0:00:14\n",
      "   ----- ---------------------------------- 2.4/18.1 MB 1.2 MB/s eta 0:00:13\n",
      "   ----- ---------------------------------- 2.5/18.1 MB 1.2 MB/s eta 0:00:13\n",
      "   ----- ---------------------------------- 2.7/18.1 MB 1.3 MB/s eta 0:00:13\n",
      "   ------ --------------------------------- 2.8/18.1 MB 1.3 MB/s eta 0:00:13\n",
      "   ------ --------------------------------- 2.9/18.1 MB 1.3 MB/s eta 0:00:12\n",
      "   ------ --------------------------------- 3.1/18.1 MB 1.3 MB/s eta 0:00:12\n",
      "   ------- -------------------------------- 3.3/18.1 MB 1.3 MB/s eta 0:00:12\n",
      "   ------- -------------------------------- 3.4/18.1 MB 1.3 MB/s eta 0:00:12\n",
      "   ------- -------------------------------- 3.5/18.1 MB 1.3 MB/s eta 0:00:12\n",
      "   -------- ------------------------------- 3.6/18.1 MB 1.3 MB/s eta 0:00:11\n",
      "   -------- ------------------------------- 3.8/18.1 MB 1.4 MB/s eta 0:00:11\n",
      "   --------- ------------------------------ 4.1/18.1 MB 1.4 MB/s eta 0:00:11\n",
      "   --------- ------------------------------ 4.2/18.1 MB 1.4 MB/s eta 0:00:11\n",
      "   --------- ------------------------------ 4.4/18.1 MB 1.4 MB/s eta 0:00:10\n",
      "   ---------- ----------------------------- 4.6/18.1 MB 1.4 MB/s eta 0:00:10\n",
      "   ---------- ----------------------------- 4.7/18.1 MB 1.4 MB/s eta 0:00:10\n",
      "   ---------- ----------------------------- 4.9/18.1 MB 1.4 MB/s eta 0:00:10\n",
      "   ---------- ----------------------------- 4.9/18.1 MB 1.4 MB/s eta 0:00:10\n",
      "   ----------- ---------------------------- 5.1/18.1 MB 1.4 MB/s eta 0:00:09\n",
      "   ----------- ---------------------------- 5.3/18.1 MB 1.4 MB/s eta 0:00:09\n",
      "   ----------- ---------------------------- 5.4/18.1 MB 1.4 MB/s eta 0:00:09\n",
      "   ------------ --------------------------- 5.6/18.1 MB 1.5 MB/s eta 0:00:09\n",
      "   ------------ --------------------------- 5.7/18.1 MB 1.5 MB/s eta 0:00:09\n",
      "   ------------ --------------------------- 5.7/18.1 MB 1.5 MB/s eta 0:00:09\n",
      "   ------------- -------------------------- 5.9/18.1 MB 1.5 MB/s eta 0:00:09\n",
      "   ------------- -------------------------- 6.0/18.1 MB 1.5 MB/s eta 0:00:09\n",
      "   ------------- -------------------------- 6.2/18.1 MB 1.5 MB/s eta 0:00:08\n",
      "   ------------- -------------------------- 6.3/18.1 MB 1.5 MB/s eta 0:00:08\n",
      "   -------------- ------------------------- 6.5/18.1 MB 1.5 MB/s eta 0:00:08\n",
      "   -------------- ------------------------- 6.7/18.1 MB 1.5 MB/s eta 0:00:08\n",
      "   -------------- ------------------------- 6.7/18.1 MB 1.5 MB/s eta 0:00:08\n",
      "   -------------- ------------------------- 6.8/18.1 MB 1.5 MB/s eta 0:00:08\n",
      "   -------------- ------------------------- 6.8/18.1 MB 1.5 MB/s eta 0:00:08\n",
      "   -------------- ------------------------- 6.8/18.1 MB 1.5 MB/s eta 0:00:08\n",
      "   --------------- ------------------------ 6.8/18.1 MB 1.4 MB/s eta 0:00:09\n",
      "   --------------- ------------------------ 7.0/18.1 MB 1.4 MB/s eta 0:00:08\n",
      "   --------------- ------------------------ 7.1/18.1 MB 1.4 MB/s eta 0:00:08\n",
      "   ---------------- ----------------------- 7.4/18.1 MB 1.4 MB/s eta 0:00:08\n",
      "   ---------------- ----------------------- 7.6/18.1 MB 1.4 MB/s eta 0:00:08\n",
      "   ----------------- ---------------------- 7.8/18.1 MB 1.5 MB/s eta 0:00:08\n",
      "   ----------------- ---------------------- 8.0/18.1 MB 1.5 MB/s eta 0:00:07\n",
      "   ----------------- ---------------------- 8.1/18.1 MB 1.5 MB/s eta 0:00:07\n",
      "   ------------------ --------------------- 8.2/18.1 MB 1.5 MB/s eta 0:00:07\n",
      "   ------------------ --------------------- 8.4/18.1 MB 1.5 MB/s eta 0:00:07\n",
      "   ------------------ --------------------- 8.5/18.1 MB 1.5 MB/s eta 0:00:07\n",
      "   ------------------ --------------------- 8.5/18.1 MB 1.5 MB/s eta 0:00:07\n",
      "   ------------------- -------------------- 8.7/18.1 MB 1.5 MB/s eta 0:00:07\n",
      "   ------------------- -------------------- 8.8/18.1 MB 1.5 MB/s eta 0:00:07\n",
      "   ------------------- -------------------- 8.9/18.1 MB 1.5 MB/s eta 0:00:07\n",
      "   -------------------- ------------------- 9.1/18.1 MB 1.5 MB/s eta 0:00:06\n",
      "   -------------------- ------------------- 9.2/18.1 MB 1.5 MB/s eta 0:00:06\n",
      "   -------------------- ------------------- 9.4/18.1 MB 1.5 MB/s eta 0:00:06\n",
      "   -------------------- ------------------- 9.5/18.1 MB 1.5 MB/s eta 0:00:06\n",
      "   --------------------- ------------------ 9.6/18.1 MB 1.5 MB/s eta 0:00:06\n",
      "   --------------------- ------------------ 9.7/18.1 MB 1.5 MB/s eta 0:00:06\n",
      "   --------------------- ------------------ 9.7/18.1 MB 1.5 MB/s eta 0:00:06\n",
      "   --------------------- ------------------ 9.9/18.1 MB 1.5 MB/s eta 0:00:06\n",
      "   --------------------- ------------------ 9.9/18.1 MB 1.5 MB/s eta 0:00:06\n",
      "   ---------------------- ----------------- 10.1/18.1 MB 1.5 MB/s eta 0:00:06\n",
      "   ---------------------- ----------------- 10.3/18.1 MB 1.5 MB/s eta 0:00:06\n",
      "   ----------------------- ---------------- 10.5/18.1 MB 1.5 MB/s eta 0:00:05\n",
      "   ----------------------- ---------------- 10.8/18.1 MB 1.6 MB/s eta 0:00:05\n",
      "   ------------------------ --------------- 11.0/18.1 MB 1.6 MB/s eta 0:00:05\n",
      "   ------------------------ --------------- 11.2/18.1 MB 1.6 MB/s eta 0:00:05\n",
      "   ------------------------- -------------- 11.4/18.1 MB 1.6 MB/s eta 0:00:05\n",
      "   ------------------------- -------------- 11.5/18.1 MB 1.6 MB/s eta 0:00:05\n",
      "   ------------------------- -------------- 11.7/18.1 MB 1.6 MB/s eta 0:00:04\n",
      "   -------------------------- ------------- 11.8/18.1 MB 1.7 MB/s eta 0:00:04\n",
      "   -------------------------- ------------- 11.9/18.1 MB 1.7 MB/s eta 0:00:04\n",
      "   -------------------------- ------------- 12.0/18.1 MB 1.7 MB/s eta 0:00:04\n",
      "   -------------------------- ------------- 12.2/18.1 MB 1.7 MB/s eta 0:00:04\n",
      "   --------------------------- ------------ 12.3/18.1 MB 1.7 MB/s eta 0:00:04\n",
      "   --------------------------- ------------ 12.5/18.1 MB 1.7 MB/s eta 0:00:04\n",
      "   --------------------------- ------------ 12.6/18.1 MB 1.7 MB/s eta 0:00:04\n",
      "   ---------------------------- ----------- 12.8/18.1 MB 1.7 MB/s eta 0:00:04\n",
      "   ---------------------------- ----------- 12.9/18.1 MB 1.7 MB/s eta 0:00:04\n",
      "   ---------------------------- ----------- 13.1/18.1 MB 1.7 MB/s eta 0:00:03\n",
      "   ----------------------------- ---------- 13.2/18.1 MB 1.7 MB/s eta 0:00:03\n",
      "   ----------------------------- ---------- 13.4/18.1 MB 1.7 MB/s eta 0:00:03\n",
      "   ------------------------------ --------- 13.6/18.1 MB 1.7 MB/s eta 0:00:03\n",
      "   ------------------------------ --------- 13.7/18.1 MB 1.7 MB/s eta 0:00:03\n",
      "   ------------------------------ --------- 13.8/18.1 MB 1.7 MB/s eta 0:00:03\n",
      "   ------------------------------ --------- 13.9/18.1 MB 1.7 MB/s eta 0:00:03\n",
      "   ------------------------------ --------- 14.0/18.1 MB 1.7 MB/s eta 0:00:03\n",
      "   ------------------------------- -------- 14.1/18.1 MB 1.7 MB/s eta 0:00:03\n",
      "   ------------------------------- -------- 14.3/18.1 MB 1.7 MB/s eta 0:00:03\n",
      "   ------------------------------- -------- 14.3/18.1 MB 1.7 MB/s eta 0:00:03\n",
      "   ------------------------------- -------- 14.4/18.1 MB 1.7 MB/s eta 0:00:03\n",
      "   -------------------------------- ------- 14.5/18.1 MB 1.7 MB/s eta 0:00:03\n",
      "   -------------------------------- ------- 14.5/18.1 MB 1.7 MB/s eta 0:00:03\n",
      "   -------------------------------- ------- 14.6/18.1 MB 1.7 MB/s eta 0:00:03\n",
      "   -------------------------------- ------- 14.7/18.1 MB 1.7 MB/s eta 0:00:03\n",
      "   -------------------------------- ------- 14.9/18.1 MB 1.7 MB/s eta 0:00:02\n",
      "   --------------------------------- ------ 15.1/18.1 MB 1.6 MB/s eta 0:00:02\n",
      "   ---------------------------------- ----- 15.4/18.1 MB 1.7 MB/s eta 0:00:02\n",
      "   ---------------------------------- ----- 15.6/18.1 MB 1.7 MB/s eta 0:00:02\n",
      "   ---------------------------------- ----- 15.7/18.1 MB 1.7 MB/s eta 0:00:02\n",
      "   ---------------------------------- ----- 15.8/18.1 MB 1.6 MB/s eta 0:00:02\n",
      "   ----------------------------------- ---- 16.0/18.1 MB 1.7 MB/s eta 0:00:02\n",
      "   ----------------------------------- ---- 16.2/18.1 MB 1.7 MB/s eta 0:00:02\n",
      "   ------------------------------------ --- 16.3/18.1 MB 1.7 MB/s eta 0:00:02\n",
      "   ------------------------------------ --- 16.5/18.1 MB 1.7 MB/s eta 0:00:01\n",
      "   ------------------------------------ --- 16.6/18.1 MB 1.7 MB/s eta 0:00:01\n",
      "   ------------------------------------- -- 16.7/18.1 MB 1.7 MB/s eta 0:00:01\n",
      "   ------------------------------------- -- 16.9/18.1 MB 1.6 MB/s eta 0:00:01\n",
      "   ------------------------------------- -- 17.1/18.1 MB 1.7 MB/s eta 0:00:01\n",
      "   -------------------------------------- - 17.2/18.1 MB 1.7 MB/s eta 0:00:01\n",
      "   -------------------------------------- - 17.4/18.1 MB 1.7 MB/s eta 0:00:01\n",
      "   -------------------------------------- - 17.5/18.1 MB 1.7 MB/s eta 0:00:01\n",
      "   -------------------------------------- - 17.6/18.1 MB 1.7 MB/s eta 0:00:01\n",
      "   ---------------------------------------  17.7/18.1 MB 1.7 MB/s eta 0:00:01\n",
      "   ---------------------------------------  17.9/18.1 MB 1.7 MB/s eta 0:00:01\n",
      "   ---------------------------------------  18.0/18.1 MB 1.7 MB/s eta 0:00:01\n",
      "   ---------------------------------------- 18.1/18.1 MB 1.7 MB/s eta 0:00:00\n",
      "Downloading gradio_client-1.3.0-py3-none-any.whl (318 kB)\n",
      "   ---------------------------------------- 0.0/318.7 kB ? eta -:--:--\n",
      "   ----------------------------------- ---- 286.7/318.7 kB 5.9 MB/s eta 0:00:01\n",
      "   ---------------------------------------- 318.7/318.7 kB 3.3 MB/s eta 0:00:00\n",
      "Downloading tomlkit-0.12.0-py3-none-any.whl (37 kB)\n",
      "Downloading aiofiles-23.2.1-py3-none-any.whl (15 kB)\n",
      "Downloading fastapi-0.115.0-py3-none-any.whl (94 kB)\n",
      "   ---------------------------------------- 0.0/94.6 kB ? eta -:--:--\n",
      "   ---------------------------------------- 94.6/94.6 kB 5.3 MB/s eta 0:00:00\n",
      "Downloading huggingface_hub-0.25.1-py3-none-any.whl (436 kB)\n",
      "   ---------------------------------------- 0.0/436.4 kB ? eta -:--:--\n",
      "   ------------------------- -------------- 276.5/436.4 kB 5.7 MB/s eta 0:00:01\n",
      "   ------------------------------------ --- 399.4/436.4 kB 3.1 MB/s eta 0:00:01\n",
      "   ---------------------------------------- 436.4/436.4 kB 2.7 MB/s eta 0:00:00\n",
      "Downloading importlib_resources-6.4.5-py3-none-any.whl (36 kB)\n",
      "Downloading orjson-3.10.7-cp312-none-win_amd64.whl (137 kB)\n",
      "   ---------------------------------------- 0.0/137.3 kB ? eta -:--:--\n",
      "   ---------------------------------------- 137.3/137.3 kB 8.5 MB/s eta 0:00:00\n",
      "Downloading python_multipart-0.0.10-py3-none-any.whl (22 kB)\n",
      "Downloading ruff-0.6.7-py3-none-win_amd64.whl (9.3 MB)\n",
      "   ---------------------------------------- 0.0/9.3 MB ? eta -:--:--\n",
      "   - -------------------------------------- 0.3/9.3 MB 4.7 MB/s eta 0:00:02\n",
      "   - -------------------------------------- 0.4/9.3 MB 3.4 MB/s eta 0:00:03\n",
      "   - -------------------------------------- 0.4/9.3 MB 3.4 MB/s eta 0:00:03\n",
      "   -- ------------------------------------- 0.5/9.3 MB 1.7 MB/s eta 0:00:06\n",
      "   --- ------------------------------------ 0.7/9.3 MB 1.8 MB/s eta 0:00:05\n",
      "   ---- ----------------------------------- 0.9/9.3 MB 1.8 MB/s eta 0:00:05\n",
      "   ---- ----------------------------------- 1.1/9.3 MB 1.7 MB/s eta 0:00:05\n",
      "   ----- ---------------------------------- 1.3/9.3 MB 1.7 MB/s eta 0:00:05\n",
      "   ------ --------------------------------- 1.4/9.3 MB 1.6 MB/s eta 0:00:05\n",
      "   ------ --------------------------------- 1.5/9.3 MB 1.7 MB/s eta 0:00:05\n",
      "   ------ --------------------------------- 1.6/9.3 MB 1.6 MB/s eta 0:00:05\n",
      "   ------- -------------------------------- 1.8/9.3 MB 1.6 MB/s eta 0:00:05\n",
      "   -------- ------------------------------- 1.9/9.3 MB 1.6 MB/s eta 0:00:05\n",
      "   -------- ------------------------------- 2.1/9.3 MB 1.6 MB/s eta 0:00:05\n",
      "   --------- ------------------------------ 2.2/9.3 MB 1.6 MB/s eta 0:00:05\n",
      "   ---------- ----------------------------- 2.3/9.3 MB 1.6 MB/s eta 0:00:05\n",
      "   ---------- ----------------------------- 2.4/9.3 MB 1.6 MB/s eta 0:00:05\n",
      "   ---------- ----------------------------- 2.5/9.3 MB 1.6 MB/s eta 0:00:05\n",
      "   ----------- ---------------------------- 2.6/9.3 MB 1.6 MB/s eta 0:00:05\n",
      "   ----------- ---------------------------- 2.7/9.3 MB 1.6 MB/s eta 0:00:05\n",
      "   ------------ --------------------------- 2.8/9.3 MB 1.6 MB/s eta 0:00:05\n",
      "   ------------ --------------------------- 2.9/9.3 MB 1.6 MB/s eta 0:00:05\n",
      "   ------------- -------------------------- 3.0/9.3 MB 1.6 MB/s eta 0:00:05\n",
      "   ------------- -------------------------- 3.1/9.3 MB 1.5 MB/s eta 0:00:05\n",
      "   -------------- ------------------------- 3.4/9.3 MB 1.5 MB/s eta 0:00:04\n",
      "   --------------- ------------------------ 3.6/9.3 MB 1.5 MB/s eta 0:00:04\n",
      "   ---------------- ----------------------- 3.7/9.3 MB 1.5 MB/s eta 0:00:04\n",
      "   ---------------- ----------------------- 3.9/9.3 MB 1.5 MB/s eta 0:00:04\n",
      "   ----------------- ---------------------- 4.2/9.3 MB 1.6 MB/s eta 0:00:04\n",
      "   ------------------ --------------------- 4.3/9.3 MB 1.6 MB/s eta 0:00:04\n",
      "   ------------------- -------------------- 4.4/9.3 MB 1.6 MB/s eta 0:00:04\n",
      "   -------------------- ------------------- 4.7/9.3 MB 1.6 MB/s eta 0:00:03\n",
      "   --------------------- ------------------ 4.9/9.3 MB 1.6 MB/s eta 0:00:03\n",
      "   --------------------- ------------------ 5.0/9.3 MB 1.6 MB/s eta 0:00:03\n",
      "   ---------------------- ----------------- 5.2/9.3 MB 1.6 MB/s eta 0:00:03\n",
      "   ----------------------- ---------------- 5.3/9.3 MB 1.6 MB/s eta 0:00:03\n",
      "   ------------------------ --------------- 5.6/9.3 MB 1.7 MB/s eta 0:00:03\n",
      "   ------------------------ --------------- 5.7/9.3 MB 1.7 MB/s eta 0:00:03\n",
      "   ------------------------ --------------- 5.8/9.3 MB 1.6 MB/s eta 0:00:03\n",
      "   ------------------------- -------------- 6.0/9.3 MB 1.7 MB/s eta 0:00:02\n",
      "   -------------------------- ------------- 6.2/9.3 MB 1.7 MB/s eta 0:00:02\n",
      "   -------------------------- ------------- 6.2/9.3 MB 1.7 MB/s eta 0:00:02\n",
      "   --------------------------- ------------ 6.3/9.3 MB 1.7 MB/s eta 0:00:02\n",
      "   --------------------------- ------------ 6.4/9.3 MB 1.7 MB/s eta 0:00:02\n",
      "   --------------------------- ------------ 6.5/9.3 MB 1.7 MB/s eta 0:00:02\n",
      "   ---------------------------- ----------- 6.7/9.3 MB 1.7 MB/s eta 0:00:02\n",
      "   ----------------------------- ---------- 6.7/9.3 MB 1.7 MB/s eta 0:00:02\n",
      "   ----------------------------- ---------- 6.9/9.3 MB 1.7 MB/s eta 0:00:02\n",
      "   ------------------------------ --------- 7.1/9.3 MB 1.7 MB/s eta 0:00:02\n",
      "   ------------------------------- -------- 7.3/9.3 MB 1.7 MB/s eta 0:00:02\n",
      "   -------------------------------- ------- 7.5/9.3 MB 1.7 MB/s eta 0:00:02\n",
      "   -------------------------------- ------- 7.6/9.3 MB 1.7 MB/s eta 0:00:01\n",
      "   --------------------------------- ------ 7.9/9.3 MB 1.7 MB/s eta 0:00:01\n",
      "   ---------------------------------- ----- 8.0/9.3 MB 1.7 MB/s eta 0:00:01\n",
      "   ----------------------------------- ---- 8.2/9.3 MB 1.7 MB/s eta 0:00:01\n",
      "   ------------------------------------ --- 8.4/9.3 MB 1.8 MB/s eta 0:00:01\n",
      "   ------------------------------------- -- 8.6/9.3 MB 1.8 MB/s eta 0:00:01\n",
      "   -------------------------------------- - 8.9/9.3 MB 1.8 MB/s eta 0:00:01\n",
      "   -------------------------------------- - 9.0/9.3 MB 1.8 MB/s eta 0:00:01\n",
      "   ---------------------------------------- 9.3/9.3 MB 1.8 MB/s eta 0:00:00\n",
      "Downloading semantic_version-2.10.0-py2.py3-none-any.whl (15 kB)\n",
      "Downloading typer-0.12.5-py3-none-any.whl (47 kB)\n",
      "   ---------------------------------------- 0.0/47.3 kB ? eta -:--:--\n",
      "   ---------------------------------------- 47.3/47.3 kB 2.3 MB/s eta 0:00:00\n",
      "Downloading uvicorn-0.30.6-py3-none-any.whl (62 kB)\n",
      "   ---------------------------------------- 0.0/62.8 kB ? eta -:--:--\n",
      "   ---------------------------------------- 62.8/62.8 kB 3.5 MB/s eta 0:00:00\n",
      "Downloading ffmpy-0.4.0-py3-none-any.whl (5.8 kB)\n",
      "Downloading pydub-0.25.1-py2.py3-none-any.whl (32 kB)\n",
      "Downloading shellingham-1.5.4-py2.py3-none-any.whl (9.8 kB)\n",
      "Downloading starlette-0.38.6-py3-none-any.whl (71 kB)\n",
      "   ---------------------------------------- 0.0/71.5 kB ? eta -:--:--\n",
      "   ---------------------------------------- 71.5/71.5 kB 3.8 MB/s eta 0:00:00\n",
      "Downloading websockets-12.0-cp312-cp312-win_amd64.whl (124 kB)\n",
      "   ---------------------------------------- 0.0/125.0 kB ? eta -:--:--\n",
      "   ---------------------------------------- 125.0/125.0 kB 3.7 MB/s eta 0:00:00\n",
      "Installing collected packages: pydub, websockets, tomlkit, shellingham, semantic-version, ruff, python-multipart, orjson, importlib-resources, ffmpy, aiofiles, uvicorn, starlette, huggingface-hub, typer, gradio-client, fastapi, gradio\n",
      "  Attempting uninstall: tomlkit\n",
      "    Found existing installation: tomlkit 0.11.1\n",
      "    Uninstalling tomlkit-0.11.1:\n",
      "      Successfully uninstalled tomlkit-0.11.1\n",
      "Successfully installed aiofiles-23.2.1 fastapi-0.115.0 ffmpy-0.4.0 gradio-4.44.0 gradio-client-1.3.0 huggingface-hub-0.25.1 importlib-resources-6.4.5 orjson-3.10.7 pydub-0.25.1 python-multipart-0.0.10 ruff-0.6.7 semantic-version-2.10.0 shellingham-1.5.4 starlette-0.38.6 tomlkit-0.12.0 typer-0.12.5 uvicorn-0.30.6 websockets-12.0\n"
     ]
    }
   ],
   "source": [
    "import pandas as pd\n",
    "import numpy as np\n",
    "from sklearn.model_selection import train_test_split\n",
    "from sklearn.linear_model import LogisticRegression\n",
    "from sklearn.svm import SVC\n",
    "from sklearn.neighbors import KNeighborsClassifier\n",
    "from sklearn.tree import DecisionTreeClassifier\n",
    "from sklearn.ensemble import RandomForestClassifier\n",
    "from sklearn.naive_bayes import GaussianNB\n",
    "from sklearn.metrics import accuracy_score\n",
    "\n",
    "!pip install gradio\n"
   ]
  },
  {
   "cell_type": "markdown",
   "metadata": {},
   "source": [
    "### 2. Data Collection"
   ]
  },
  {
   "cell_type": "code",
   "execution_count": 4,
   "metadata": {},
   "outputs": [],
   "source": [
    "iris_data = pd.read_csv(\"Iris.csv\")"
   ]
  },
  {
   "cell_type": "code",
   "execution_count": 6,
   "metadata": {},
   "outputs": [
    {
     "data": {
      "text/html": [
       "<div>\n",
       "<style scoped>\n",
       "    .dataframe tbody tr th:only-of-type {\n",
       "        vertical-align: middle;\n",
       "    }\n",
       "\n",
       "    .dataframe tbody tr th {\n",
       "        vertical-align: top;\n",
       "    }\n",
       "\n",
       "    .dataframe thead th {\n",
       "        text-align: right;\n",
       "    }\n",
       "</style>\n",
       "<table border=\"1\" class=\"dataframe\">\n",
       "  <thead>\n",
       "    <tr style=\"text-align: right;\">\n",
       "      <th></th>\n",
       "      <th>Id</th>\n",
       "      <th>SepalLengthCm</th>\n",
       "      <th>SepalWidthCm</th>\n",
       "      <th>PetalLengthCm</th>\n",
       "      <th>PetalWidthCm</th>\n",
       "      <th>Species</th>\n",
       "    </tr>\n",
       "  </thead>\n",
       "  <tbody>\n",
       "    <tr>\n",
       "      <th>0</th>\n",
       "      <td>1</td>\n",
       "      <td>5.1</td>\n",
       "      <td>3.5</td>\n",
       "      <td>1.4</td>\n",
       "      <td>0.2</td>\n",
       "      <td>Iris-setosa</td>\n",
       "    </tr>\n",
       "    <tr>\n",
       "      <th>1</th>\n",
       "      <td>2</td>\n",
       "      <td>4.9</td>\n",
       "      <td>3.0</td>\n",
       "      <td>1.4</td>\n",
       "      <td>0.2</td>\n",
       "      <td>Iris-setosa</td>\n",
       "    </tr>\n",
       "    <tr>\n",
       "      <th>2</th>\n",
       "      <td>3</td>\n",
       "      <td>4.7</td>\n",
       "      <td>3.2</td>\n",
       "      <td>1.3</td>\n",
       "      <td>0.2</td>\n",
       "      <td>Iris-setosa</td>\n",
       "    </tr>\n",
       "    <tr>\n",
       "      <th>3</th>\n",
       "      <td>4</td>\n",
       "      <td>4.6</td>\n",
       "      <td>3.1</td>\n",
       "      <td>1.5</td>\n",
       "      <td>0.2</td>\n",
       "      <td>Iris-setosa</td>\n",
       "    </tr>\n",
       "    <tr>\n",
       "      <th>4</th>\n",
       "      <td>5</td>\n",
       "      <td>5.0</td>\n",
       "      <td>3.6</td>\n",
       "      <td>1.4</td>\n",
       "      <td>0.2</td>\n",
       "      <td>Iris-setosa</td>\n",
       "    </tr>\n",
       "  </tbody>\n",
       "</table>\n",
       "</div>"
      ],
      "text/plain": [
       "   Id  SepalLengthCm  SepalWidthCm  PetalLengthCm  PetalWidthCm      Species\n",
       "0   1            5.1           3.5            1.4           0.2  Iris-setosa\n",
       "1   2            4.9           3.0            1.4           0.2  Iris-setosa\n",
       "2   3            4.7           3.2            1.3           0.2  Iris-setosa\n",
       "3   4            4.6           3.1            1.5           0.2  Iris-setosa\n",
       "4   5            5.0           3.6            1.4           0.2  Iris-setosa"
      ]
     },
     "execution_count": 6,
     "metadata": {},
     "output_type": "execute_result"
    }
   ],
   "source": [
    "iris_data.head(5)"
   ]
  },
  {
   "cell_type": "code",
   "execution_count": 8,
   "metadata": {},
   "outputs": [
    {
     "name": "stdout",
     "output_type": "stream",
     "text": [
      "<class 'pandas.core.frame.DataFrame'>\n",
      "RangeIndex: 150 entries, 0 to 149\n",
      "Data columns (total 6 columns):\n",
      " #   Column         Non-Null Count  Dtype  \n",
      "---  ------         --------------  -----  \n",
      " 0   Id             150 non-null    int64  \n",
      " 1   SepalLengthCm  150 non-null    float64\n",
      " 2   SepalWidthCm   150 non-null    float64\n",
      " 3   PetalLengthCm  150 non-null    float64\n",
      " 4   PetalWidthCm   150 non-null    float64\n",
      " 5   Species        150 non-null    object \n",
      "dtypes: float64(4), int64(1), object(1)\n",
      "memory usage: 7.2+ KB\n"
     ]
    }
   ],
   "source": [
    "iris_data.info()"
   ]
  },
  {
   "cell_type": "markdown",
   "metadata": {},
   "source": [
    "### 3. Split Data Into Training and Testing Sets"
   ]
  },
  {
   "cell_type": "code",
   "execution_count": 11,
   "metadata": {},
   "outputs": [
    {
     "data": {
      "text/plain": [
       "Species\n",
       "Iris-setosa        50\n",
       "Iris-versicolor    50\n",
       "Iris-virginica     50\n",
       "Name: count, dtype: int64"
      ]
     },
     "execution_count": 11,
     "metadata": {},
     "output_type": "execute_result"
    }
   ],
   "source": [
    "iris_features = iris_data[[\"SepalLengthCm\", \"SepalWidthCm\", \"PetalLengthCm\", \"PetalWidthCm\"]]\n",
    "iris_target = iris_data[\"Species\"]\n",
    "iris_target.value_counts()"
   ]
  },
  {
   "cell_type": "code",
   "execution_count": 13,
   "metadata": {},
   "outputs": [],
   "source": [
    "features_train, features_test, target_train, target_test = train_test_split(iris_features, iris_target, test_size = 0.2, random_state = 2)"
   ]
  },
  {
   "cell_type": "code",
   "execution_count": 15,
   "metadata": {},
   "outputs": [
    {
     "name": "stdout",
     "output_type": "stream",
     "text": [
      "(120, 4) (30, 4) (120,) (30,)\n"
     ]
    }
   ],
   "source": [
    "print(features_train.shape, features_test.shape, target_train.shape, target_test.shape)"
   ]
  },
  {
   "cell_type": "markdown",
   "metadata": {},
   "source": [
    "### 4. Initialize classifiers"
   ]
  },
  {
   "cell_type": "code",
   "execution_count": 18,
   "metadata": {},
   "outputs": [],
   "source": [
    "models = {\n",
    "    \"Logistic Regression\": LogisticRegression(),\n",
    "    \"SVM\": SVC(),\n",
    "    \"KNN\": KNeighborsClassifier(),\n",
    "    \"Decision Tree\": DecisionTreeClassifier(),\n",
    "    \"Random Forest\": RandomForestClassifier(),\n",
    "    \"Naive Bayes\": GaussianNB()\n",
    "}"
   ]
  },
  {
   "cell_type": "markdown",
   "metadata": {},
   "source": [
    "### 5. Train and Evaluate Each Model"
   ]
  },
  {
   "cell_type": "code",
   "execution_count": 21,
   "metadata": {},
   "outputs": [
    {
     "name": "stdout",
     "output_type": "stream",
     "text": [
      "Logistic Regression: 0.97\n",
      "SVM: 0.97\n",
      "KNN: 1.00\n",
      "Decision Tree: 0.93\n",
      "Random Forest: 0.97\n",
      "Naive Bayes: 0.97\n"
     ]
    }
   ],
   "source": [
    "for name, model in models.items():\n",
    "    model.fit(features_train, target_train)\n",
    "\n",
    "    y_pred = model.predict(features_test)\n",
    "\n",
    "    accuracy = accuracy_score(target_test, y_pred)\n",
    "    print(f\"{name}: {accuracy:.2f}\")\n"
   ]
  },
  {
   "cell_type": "markdown",
   "metadata": {},
   "source": [
    "As KNeighborsClassifier has the highest accuracy hence it will be used for testing\n"
   ]
  },
  {
   "cell_type": "markdown",
   "metadata": {},
   "source": [
    "### 6. Testing the model"
   ]
  },
  {
   "cell_type": "markdown",
   "metadata": {},
   "source": [
    "#### 6.1 Using Kneighboursclassifier for further processing"
   ]
  },
  {
   "cell_type": "code",
   "execution_count": 26,
   "metadata": {},
   "outputs": [],
   "source": [
    "model1 = KNeighborsClassifier()"
   ]
  },
  {
   "cell_type": "code",
   "execution_count": 28,
   "metadata": {},
   "outputs": [
    {
     "name": "stdout",
     "output_type": "stream",
     "text": [
      "1.0\n"
     ]
    }
   ],
   "source": [
    "model1.fit(features_train, target_train)\n",
    "y_pred = model1.predict(features_test)\n",
    "accuracy = accuracy_score(target_test, y_pred)\n",
    "print(f\"{accuracy}\")"
   ]
  },
  {
   "cell_type": "markdown",
   "metadata": {},
   "source": [
    "#### 6.2 Predicting the class using KNeighborsClassifier"
   ]
  },
  {
   "cell_type": "code",
   "execution_count": 31,
   "metadata": {},
   "outputs": [
    {
     "name": "stdout",
     "output_type": "stream",
     "text": [
      "Predicted class is: Iris-virginica\n"
     ]
    },
    {
     "name": "stderr",
     "output_type": "stream",
     "text": [
      "C:\\Users\\chala\\AppData\\Local\\anaconda3\\Lib\\site-packages\\sklearn\\base.py:493: UserWarning: X does not have valid feature names, but KNeighborsClassifier was fitted with feature names\n",
      "  warnings.warn(\n"
     ]
    }
   ],
   "source": [
    "input_data = (5.8,2.8,5.1,2.4)\n",
    "\n",
    "input_data_as_numpy_array = np.asarray(input_data)\n",
    "\n",
    "input_data_reshaped = input_data_as_numpy_array.reshape(1, -1)\n",
    "\n",
    "prediction = model1.predict(input_data_reshaped)\n",
    "print(f\"Predicted class is: {prediction[0]}\")"
   ]
  },
  {
   "cell_type": "markdown",
   "metadata": {},
   "source": [
    "### 7. Creating interface with Gradio"
   ]
  },
  {
   "cell_type": "code",
   "execution_count": 34,
   "metadata": {},
   "outputs": [],
   "source": [
    "def predict_species(sepal_length, sepal_width, petal_length, petal_width):\n",
    "    prediction = model1.predict([[sepal_length, sepal_width, petal_length, petal_width]])\n",
    "    return prediction[0]\n"
   ]
  },
  {
   "cell_type": "code",
   "execution_count": 43,
   "metadata": {},
   "outputs": [],
   "source": [
    "import gradio as gr"
   ]
  },
  {
   "cell_type": "code",
   "execution_count": 44,
   "metadata": {},
   "outputs": [],
   "source": [
    "interface = gr.Interface(\n",
    "    fn=predict_species,\n",
    "    inputs=[\n",
    "        gr.Number(label=\"Sepal Length (cm)\"),\n",
    "        gr.Number(label=\"Sepal Width (cm)\"),\n",
    "        gr.Number(label=\"Petal Length (cm)\"),\n",
    "        gr.Number(label=\"Petal Width (cm)\")\n",
    "    ],\n",
    "    outputs=\"text\",\n",
    "    title=\"Iris Flower Species Classification\",\n",
    "    description=\"Enter the values for sepal length, sepal width, petal length, and petal width to predict the species of the iris flower.\"\n",
    ")"
   ]
  },
  {
   "cell_type": "code",
   "execution_count": 45,
   "metadata": {},
   "outputs": [
    {
     "name": "stdout",
     "output_type": "stream",
     "text": [
      "Running on local URL:  http://127.0.0.1:7860\n",
      "\n",
      "To create a public link, set `share=True` in `launch()`.\n"
     ]
    },
    {
     "data": {
      "text/html": [
       "<div><iframe src=\"http://127.0.0.1:7860/\" width=\"100%\" height=\"500\" allow=\"autoplay; camera; microphone; clipboard-read; clipboard-write;\" frameborder=\"0\" allowfullscreen></iframe></div>"
      ],
      "text/plain": [
       "<IPython.core.display.HTML object>"
      ]
     },
     "metadata": {},
     "output_type": "display_data"
    },
    {
     "data": {
      "text/plain": []
     },
     "execution_count": 45,
     "metadata": {},
     "output_type": "execute_result"
    }
   ],
   "source": [
    "interface.launch()"
   ]
  },
  {
   "cell_type": "code",
   "execution_count": null,
   "metadata": {},
   "outputs": [],
   "source": []
  }
 ],
 "metadata": {
  "kernelspec": {
   "display_name": "Python 3 (ipykernel)",
   "language": "python",
   "name": "python3"
  },
  "language_info": {
   "codemirror_mode": {
    "name": "ipython",
    "version": 3
   },
   "file_extension": ".py",
   "mimetype": "text/x-python",
   "name": "python",
   "nbconvert_exporter": "python",
   "pygments_lexer": "ipython3",
   "version": "3.12.4"
  }
 },
 "nbformat": 4,
 "nbformat_minor": 4
}
